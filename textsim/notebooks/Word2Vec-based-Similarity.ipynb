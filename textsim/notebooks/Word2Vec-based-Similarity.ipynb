{
 "cells": [
  {
   "cell_type": "markdown",
   "metadata": {},
   "source": [
    "# Word2Vec Best-Pair Word Overlap\n",
    "\n",
    "Based on WordNet Augmented Word Overlap from [Saric2012](#Saric2012) design."
   ]
  },
  {
   "cell_type": "code",
   "execution_count": 1,
   "metadata": {},
   "outputs": [],
   "source": [
    "import gensim\n",
    "import nltk\n",
    "import os\n",
    "import re\n",
    "from gensim.corpora import MmCorpus\n",
    "from gensim.models import Word2Vec"
   ]
  },
  {
   "cell_type": "code",
   "execution_count": 2,
   "metadata": {},
   "outputs": [],
   "source": [
    "#Loading text corpus, little Gutenberg collection same as NLTK Gutemberg corpus\n",
    "doc_collection = []\n",
    "file_path = 'data/gutenberg/'\n",
    "file_list = list(os.popen('ls '+ file_path).read().split('\\n'))\n",
    "for file in file_list:\n",
    "    if file:\n",
    "        with open(os.path.join(file_path,file)) as doc:\n",
    "            doc_collection.append(doc.read())"
   ]
  },
  {
   "cell_type": "code",
   "execution_count": 3,
   "metadata": {},
   "outputs": [],
   "source": [
    "#Wrangling the data from list of doc-strings -> list of word-list by sentences\n",
    "sentences = []\n",
    "for doc in range(len(doc_collection)):\n",
    "    for sent in nltk.sent_tokenize(doc_collection[doc]):\n",
    "        sent_words = []\n",
    "        for word in nltk.word_tokenize(sent):\n",
    "            sent_words.append(word)\n",
    "        sentences.append(sent_words)"
   ]
  },
  {
   "cell_type": "code",
   "execution_count": 5,
   "metadata": {},
   "outputs": [
    {
     "name": "stderr",
     "output_type": "stream",
     "text": [
      "WARNING:gensim.models.word2vec:supplied raw word count (13461135) did not equal expected count (100000000)\n"
     ]
    },
    {
     "data": {
      "text/plain": [
       "9702752"
      ]
     },
     "execution_count": 5,
     "metadata": {},
     "output_type": "execute_result"
    }
   ],
   "source": [
    "#Building Word2Vec model\n",
    "#first build vocabulary\n",
    "w2v = Word2Vec(iter=1)\n",
    "w2v.build_vocab(sentences)\n",
    "\n",
    "#second train the model\n",
    "w2v = Word2Vec(sentences, min_count=1,workers=4)\n",
    "w2v.save('data/gensim_data/my_model')\n",
    "model = gensim.models.Word2Vec.load('data/gensim_data/my_model')\n",
    "\n",
    "#third train the model with more sentences\n",
    "model.train(sentences,total_words=20000000,epochs=model.iter)"
   ]
  },
  {
   "cell_type": "markdown",
   "metadata": {},
   "source": [
    "### Best Pair Word Overlap\n",
    "\n",
    "Lets try a different way to compound a sentence similarity, based on WordNet-Augmented-Word-Overlap similarity idea.\n",
    "\n",
    "$p = {\\sum_{w\\in\\ sent_1}max(df[w][w']) \\over len(sent_1)} \\ \\ \\ \\forall\\ w' \\in\\ sent_2$\n",
    "\n",
    "$q = {\\sum_{w'\\in\\ sent_2}max(df[w][w']) \\over len(sent_2)} \\ \\ \\ \\forall\\ w \\in\\ sent_1$\n",
    "\n",
    "$sim = \\left\\{ \\begin{array}{rcl} \n",
    "0  & if\\ p+q = 0\\\\\n",
    "{2 p*q \\over (p+q)}  & others\\\\\n",
    "\\end{array}\n",
    "\\right.$"
   ]
  },
  {
   "cell_type": "code",
   "execution_count": 7,
   "metadata": {},
   "outputs": [
    {
     "name": "stdout",
     "output_type": "stream",
     "text": [
      "0.783466901991 0.642468558815 0.705996681108\n"
     ]
    }
   ],
   "source": [
    "sent1 = ['the','girl','run','into','the','hall']\n",
    "sent2 = ['Here','Alice','run','to','the','hall']\n",
    "\n",
    "p=0\n",
    "for wi in sent1:\n",
    "    m = 0\n",
    "    for wc in sent2:\n",
    "        m = max(m, model.similarity(wi,wc))\n",
    "    p += m\n",
    "p = p/len(sent1)\n",
    "\n",
    "q=0\n",
    "for wc in sent2:\n",
    "    m = 0\n",
    "    for wi in sent1:\n",
    "        m = max(m, model.similarity(wi,wc))\n",
    "    q += m\n",
    "q = q/len(sent2)\n",
    "\n",
    "sim = 2*p*q/(p+q or 1)\n",
    "print(p,q,sim)"
   ]
  }
 ],
 "metadata": {
  "kernelspec": {
   "display_name": "Python 3",
   "language": "python",
   "name": "python3"
  },
  "language_info": {
   "codemirror_mode": {
    "name": "ipython",
    "version": 3
   },
   "file_extension": ".py",
   "mimetype": "text/x-python",
   "name": "python",
   "nbconvert_exporter": "python",
   "pygments_lexer": "ipython3",
   "version": "3.5.2"
  }
 },
 "nbformat": 4,
 "nbformat_minor": 1
}
