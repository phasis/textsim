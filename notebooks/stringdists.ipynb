{
 "cells": [
  {
   "cell_type": "markdown",
   "metadata": {},
   "source": [
    "# String Distance Examples"
   ]
  },
  {
   "cell_type": "code",
   "execution_count": 4,
   "metadata": {},
   "outputs": [
    {
     "name": "stdout",
     "output_type": "stream",
     "text": [
      "/home/abelm\n"
     ]
    }
   ],
   "source": [
    "cd ../../"
   ]
  },
  {
   "cell_type": "code",
   "execution_count": 5,
   "metadata": {},
   "outputs": [],
   "source": [
    "import textsim\n",
    "from textsim import *"
   ]
  },
  {
   "cell_type": "code",
   "execution_count": 6,
   "metadata": {},
   "outputs": [],
   "source": [
    "s1 = \"PCCW's chief operating officer, Mike Butcher, and Alex Arena, the chief financial officer, will report directly to Mr So.\"\n",
    "s2 = \"Current Chief Operating Officer Mike Butcher and Group Chief Financial Officer Alex Arena will report to So.\""
   ]
  },
  {
   "cell_type": "markdown",
   "metadata": {},
   "source": [
    "### **Listing all available distances!**"
   ]
  },
  {
   "cell_type": "code",
   "execution_count": 7,
   "metadata": {},
   "outputs": [
    {
     "name": "stdout",
     "output_type": "stream",
     "text": [
      "total 29\n"
     ]
    },
    {
     "data": {
      "text/plain": [
       "['lcs_similarity',\n",
       " 'levenshtein_similarity_pattern',\n",
       " 'edit_similarity_nltk',\n",
       " 'jaro_winkler_distance',\n",
       " 'sorensen_distance_textsim',\n",
       " 'hamming_distance',\n",
       " 'levenshtein_distance',\n",
       " 'edit_distance_nltk',\n",
       " 'dice_coefficient',\n",
       " 'match_rating_comparison',\n",
       " 'containment_distance',\n",
       " 'binary_distance',\n",
       " 'edit_distance',\n",
       " 'needleman_wunsch_similarity',\n",
       " 'levenshtein_distance_pattern',\n",
       " 'smith_waterman_distance',\n",
       " 'lcs_distance',\n",
       " 'damerau_levenshtein_distance_textsim',\n",
       " 'damerau_levenshtein_distance_jellyfish',\n",
       " 'levenshtein_distance_jellyfish',\n",
       " 'dice_coefficient_pattern',\n",
       " 'needleman_wunsch_distance',\n",
       " 'levenshtein_similarity_jellyfish',\n",
       " 'lcs',\n",
       " 'edit_similarity',\n",
       " 'damerau_levenshtein_distance',\n",
       " 'needleman_wunsch_distance_pystring',\n",
       " 'levenshtein_similarity',\n",
       " 'jaro_distance']"
      ]
     },
     "execution_count": 7,
     "metadata": {},
     "output_type": "execute_result"
    }
   ],
   "source": [
    "print('total',len(textsim.stringdists.__all__))\n",
    "textsim.stringdists.__all__"
   ]
  },
  {
   "cell_type": "code",
   "execution_count": 21,
   "metadata": {},
   "outputs": [
    {
     "name": "stdout",
     "output_type": "stream",
     "text": [
      "total: 15\n",
      "binary_distance\n",
      "containment_distance\n",
      "damerau_levenshtein_distance\n",
      "dice_coefficient\n",
      "edit_similarity\n",
      "hamming_distance\n",
      "jaro_distance\n",
      "jaro_winkler_distance\n",
      "lcs_distance\n",
      "lcs_similarity\n",
      "levenshtein_distance\n",
      "match_rating_comparison\n",
      "needleman_wunsch_distance\n",
      "needleman_wunsch_similarity\n",
      "smith_waterman_distance\n"
     ]
    }
   ],
   "source": [
    "#Totaly exclusive distances\n",
    "print('total:',len(textsim.stringdists.__distances__))\n",
    "for metric in sorted(textsim.stringdists.__distances__.keys()):\n",
    "    print(metric)"
   ]
  },
  {
   "cell_type": "markdown",
   "metadata": {},
   "source": [
    "### **Calling all distances in a flash!**"
   ]
  },
  {
   "cell_type": "code",
   "execution_count": 9,
   "metadata": {},
   "outputs": [
    {
     "name": "stdout",
     "output_type": "stream",
     "text": [
      "0.000: binary_distance\n",
      "0.587: levenshtein_similarity_pattern\n",
      "0.587: edit_similarity_nltk\n",
      "0.587: levenshtein_similarity_jellyfish\n",
      "0.587: edit_similarity\n",
      "0.587: levenshtein_similarity\n",
      "0.707: lcs_similarity\n",
      "0.721: containment_distance\n",
      "0.740: jaro_winkler_distance\n",
      "0.740: jaro_distance\n",
      "0.747: sorensen_distance_textsim\n",
      "0.747: dice_coefficient\n",
      "0.747: dice_coefficient_pattern\n",
      "0.873: needleman_wunsch_similarity\n",
      "1.000: match_rating_comparison\n",
      "50.000: levenshtein_distance\n",
      "50.000: edit_distance_nltk\n",
      "50.000: levenshtein_distance_pattern\n",
      "50.000: edit_distance\n",
      "50.000: damerau_levenshtein_distance_textsim\n",
      "50.000: levenshtein_distance_jellyfish\n",
      "50.000: damerau_levenshtein_distance\n",
      "50.000: damerau_levenshtein_distance_jellyfish\n",
      "81.000: lcs_distance\n",
      "100.000: needleman_wunsch_distance\n",
      "100.000: needleman_wunsch_distance_pystring\n",
      "102.000: hamming_distance\n",
      "115.000: smith_waterman_distance\n"
     ]
    }
   ],
   "source": [
    "dictdist = {}\n",
    "for metric in textsim.stringdists.PAIRED_DISTANCES:\n",
    "    func = textsim.stringdists.PAIRED_DISTANCES[metric]\n",
    "    try: #lcs returns a string\n",
    "        dictdist[metric] = float(func(s1,s2))\n",
    "    except:\n",
    "        pass\n",
    "\n",
    "dictcp = dictdist.copy()\n",
    "for value in sorted(dictdist.values()):\n",
    "    for word in dictdist.keys():\n",
    "        if dictdist[word] == value and word in dictcp:\n",
    "            print('%.3f: %s' % (value,word))\n",
    "            dictcp.pop(word)"
   ]
  },
  {
   "cell_type": "markdown",
   "metadata": {},
   "source": [
    "### **Calling a specific distance!**"
   ]
  },
  {
   "cell_type": "code",
   "execution_count": 10,
   "metadata": {},
   "outputs": [
    {
     "data": {
      "text/plain": [
       "50"
      ]
     },
     "execution_count": 10,
     "metadata": {},
     "output_type": "execute_result"
    }
   ],
   "source": [
    "levenshtein_distance_jellyfish(s1,s2)"
   ]
  },
  {
   "cell_type": "markdown",
   "metadata": {},
   "source": [
    "## Performance between String Similar Distances\n",
    "\n",
    "Some distances have the same value, but comes from different implementations. Which is better?\n",
    "The names of distances inside textim have been changed after run this performance test the first time.\n",
    "\n",
    "    E.g. levenshtein_distance = levenshtein_distance_jellyfish\n",
    "         damerau_levenshtein_distance = levenshtein_distance_pattern\n",
    "         \n",
    "damerau_levenshtein_distance_textsim is a self implementation, inside textsim package, of damerau_levenshtein_distance. The code is contained for students to take it as an example of implementation of this kind of distance."
   ]
  },
  {
   "cell_type": "code",
   "execution_count": 11,
   "metadata": {},
   "outputs": [
    {
     "name": "stdout",
     "output_type": "stream",
     "text": [
      "100 loops, best of 3: 12.5 ms per loop\n",
      "100 loops, best of 3: 7.01 ms per loop\n",
      "100 loops, best of 3: 7.21 ms per loop\n",
      "100 loops, best of 3: 7.06 ms per loop\n"
     ]
    }
   ],
   "source": [
    "%timeit edit_similarity_nltk(s1,s2)\n",
    "%timeit levenshtein_similarity_jellyfish(s1,s2)\n",
    "%timeit levenshtein_similarity_pattern(s1,s2)\n",
    "%timeit levenshtein_similarity(s1,s2)\n"
   ]
  },
  {
   "cell_type": "code",
   "execution_count": 12,
   "metadata": {},
   "outputs": [
    {
     "name": "stdout",
     "output_type": "stream",
     "text": [
      "100 loops, best of 3: 13.8 ms per loop\n",
      "100 loops, best of 3: 15 ms per loop\n"
     ]
    }
   ],
   "source": [
    "%timeit damerau_levenshtein_distance_jellyfish(s1,s2)\n",
    "%timeit damerau_levenshtein_distance_textsim(s1,s2)"
   ]
  },
  {
   "cell_type": "code",
   "execution_count": 13,
   "metadata": {},
   "outputs": [
    {
     "name": "stdout",
     "output_type": "stream",
     "text": [
      "100 loops, best of 3: 12.6 ms per loop\n",
      "100 loops, best of 3: 7.2 ms per loop\n",
      "100 loops, best of 3: 7.08 ms per loop\n",
      "100 loops, best of 3: 7.15 ms per loop\n"
     ]
    }
   ],
   "source": [
    "%timeit edit_distance_nltk(s1,s2)\n",
    "%timeit levenshtein_distance_pattern(s1,s2)\n",
    "%timeit levenshtein_distance_jellyfish(s1,s2)\n",
    "%timeit levenshtein_distance(s1,s2)"
   ]
  },
  {
   "cell_type": "code",
   "execution_count": 14,
   "metadata": {},
   "outputs": [
    {
     "name": "stdout",
     "output_type": "stream",
     "text": [
      "10000 loops, best of 3: 67.3 µs per loop\n",
      "10000 loops, best of 3: 69.3 µs per loop\n"
     ]
    }
   ],
   "source": [
    "%timeit dice_coefficient_pattern(s1,s2)\n",
    "%timeit sorensen_distance_textsim(s1,s2)"
   ]
  },
  {
   "cell_type": "code",
   "execution_count": 15,
   "metadata": {},
   "outputs": [
    {
     "name": "stdout",
     "output_type": "stream",
     "text": [
      "10 loops, best of 3: 38.1 ms per loop\n"
     ]
    }
   ],
   "source": [
    "%timeit smith_waterman_distance(s1,s2)"
   ]
  },
  {
   "cell_type": "markdown",
   "metadata": {},
   "source": [
    "Old smith_waterman_distance from swalign package report 52.6 ms for the same test data."
   ]
  },
  {
   "cell_type": "code",
   "execution_count": 16,
   "metadata": {},
   "outputs": [
    {
     "name": "stdout",
     "output_type": "stream",
     "text": [
      "10 loops, best of 3: 29.7 ms per loop\n",
      "100 loops, best of 3: 10.6 ms per loop\n"
     ]
    }
   ],
   "source": [
    "from textsim.stringdists.distances import needleman_wunsch_distance_textsim\n",
    "%timeit needleman_wunsch_distance(s1,s2)\n",
    "%timeit needleman_wunsch_distance_textsim(s1,s2)"
   ]
  },
  {
   "cell_type": "markdown",
   "metadata": {},
   "source": [
    "Although Needleman-Wunsch textsim implementation is faster than pystring, POO and flexibility of the pystring implementation to pass an arbitrary designed function (to value substitution/copy) as parameter makes it a goal for the next textsim package version.\n",
    "Also there is an error on textsim implementation tested by hand."
   ]
  },
  {
   "cell_type": "code",
   "execution_count": 17,
   "metadata": {},
   "outputs": [
    {
     "name": "stdout",
     "output_type": "stream",
     "text": [
      "100 loops, best of 3: 6.35 ms per loop\n"
     ]
    }
   ],
   "source": [
    "%timeit lcs(s1,s2)"
   ]
  },
  {
   "cell_type": "code",
   "execution_count": 18,
   "metadata": {},
   "outputs": [
    {
     "data": {
      "text/plain": [
       "['Gotoh distance', 'Monge Elkan distance', 'N-grams Overlap']"
      ]
     },
     "execution_count": 18,
     "metadata": {},
     "output_type": "execute_result"
    }
   ],
   "source": [
    "textsim.stringdists.__not_implemented__"
   ]
  }
 ],
 "metadata": {
  "kernelspec": {
   "display_name": "Python 3",
   "language": "python",
   "name": "python3"
  },
  "language_info": {
   "codemirror_mode": {
    "name": "ipython",
    "version": 3
   },
   "file_extension": ".py",
   "mimetype": "text/x-python",
   "name": "python",
   "nbconvert_exporter": "python",
   "pygments_lexer": "ipython3",
   "version": "3.6.9"
  }
 },
 "nbformat": 4,
 "nbformat_minor": 1
}
