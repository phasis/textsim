{
 "metadata": {
  "name": "",
  "signature": "sha256:912fcffa4e3825b7a9596112d42edb71c1a696284850dc335806e9bda78c80cb"
 },
 "nbformat": 3,
 "nbformat_minor": 0,
 "worksheets": [
  {
   "cells": [
    {
     "cell_type": "markdown",
     "metadata": {},
     "source": [
      "# String Distance Examples"
     ]
    },
    {
     "cell_type": "code",
     "collapsed": false,
     "input": [
      "cd ../../"
     ],
     "language": "python",
     "metadata": {},
     "outputs": [
      {
       "output_type": "stream",
       "stream": "stdout",
       "text": [
        "/home/abelm\n"
       ]
      }
     ],
     "prompt_number": 1
    },
    {
     "cell_type": "code",
     "collapsed": false,
     "input": [
      "import textsim\n",
      "from textsim import *"
     ],
     "language": "python",
     "metadata": {},
     "outputs": [],
     "prompt_number": 2
    },
    {
     "cell_type": "code",
     "collapsed": false,
     "input": [
      "s1 = \"PCCW's chief operating officer, Mike Butcher, and Alex Arena, the chief financial officer, will report directly to Mr So.\"\n",
      "s2 = \"Current Chief Operating Officer Mike Butcher and Group Chief Financial Officer Alex Arena will report to So.\""
     ],
     "language": "python",
     "metadata": {},
     "outputs": [],
     "prompt_number": 3
    },
    {
     "cell_type": "markdown",
     "metadata": {},
     "source": [
      "### **Listing all available distances!**"
     ]
    },
    {
     "cell_type": "code",
     "collapsed": false,
     "input": [
      "print('total',len(textsim.stringdists.__all__))\n",
      "textsim.stringdists.__all__"
     ],
     "language": "python",
     "metadata": {},
     "outputs": [
      {
       "output_type": "stream",
       "stream": "stdout",
       "text": [
        "total 29\n"
       ]
      },
      {
       "metadata": {},
       "output_type": "pyout",
       "prompt_number": 4,
       "text": [
        "['smith_waterman_distance',\n",
        " 'needleman_wunsch_similarity',\n",
        " 'binary_distance',\n",
        " 'levenshtein_similarity_pattern',\n",
        " 'damerau_levenshtein_distance_jellyfish',\n",
        " 'dice_coefficient_pattern',\n",
        " 'levenshtein_similarity',\n",
        " 'edit_similarity',\n",
        " 'levenshtein_distance_pattern',\n",
        " 'match_rating_comparison',\n",
        " 'dice_coefficient',\n",
        " 'needleman_wunsch_distance_pystring',\n",
        " 'levenshtein_similarity_jellyfish',\n",
        " 'lcs_distance',\n",
        " 'sorensen_distance_textsim',\n",
        " 'levenshtein_distance_jellyfish',\n",
        " 'damerau_levenshtein_distance',\n",
        " 'needleman_wunsch_distance',\n",
        " 'edit_distance_nltk',\n",
        " 'edit_similarity_nltk',\n",
        " 'lcs',\n",
        " 'levenshtein_distance',\n",
        " 'containment_distance',\n",
        " 'damerau_levenshtein_distance_textsim',\n",
        " 'jaro_distance',\n",
        " 'jaro_winkler_distance',\n",
        " 'lcs_similarity',\n",
        " 'hamming_distance',\n",
        " 'edit_distance']"
       ]
      }
     ],
     "prompt_number": 4
    },
    {
     "cell_type": "code",
     "collapsed": false,
     "input": [
      "#Totaly exclusive distances \n",
      "_diff_ = [\n",
      "'binary_distance',\n",
      "'edit_similarity',\n",
      "'damerau_levenshtein_similarity',\n",
      "'jaro_distance'\n",
      "'jaro_winkler_distance',\n",
      "'hamming_distance',\n",
      "'match_rating_comparison',\n",
      "'dice_coefficient',\n",
      "'lcs_distance',\n",
      "'lcs_similarity',\n",
      "'smith_waterman_distance',\n",
      "'needleman_wunch_distance',\n",
      "'needleman_wunch_similarity',\n",
      "'containment_distance'\n",
      "]\n",
      "print(len(_diff_))"
     ],
     "language": "python",
     "metadata": {},
     "outputs": [
      {
       "output_type": "stream",
       "stream": "stdout",
       "text": [
        "13\n"
       ]
      }
     ],
     "prompt_number": 5
    },
    {
     "cell_type": "markdown",
     "metadata": {},
     "source": [
      "### **Calling all distances in a flash!**"
     ]
    },
    {
     "cell_type": "code",
     "collapsed": false,
     "input": [
      "dictdist = {}\n",
      "for metric in textsim.stringdists.PAIRED_DISTANCES:\n",
      "    func = textsim.stringdists.PAIRED_DISTANCES[metric]\n",
      "    try: #lcs returns a string\n",
      "        dictdist[metric] = float(func(s1,s2))\n",
      "    except:\n",
      "        pass\n",
      "\n",
      "dictcp = dictdist.copy()\n",
      "for value in sorted(dictdist.values()):\n",
      "    for word in dictdist.keys():\n",
      "        if dictdist[word] == value and word in dictcp:\n",
      "            print('%.3f: %s' % (value,word))\n",
      "            dictcp.pop(word)"
     ],
     "language": "python",
     "metadata": {},
     "outputs": [
      {
       "output_type": "stream",
       "stream": "stdout",
       "text": [
        "0.000: binary_distance\n",
        "0.587: levenshtein_similarity_pattern\n",
        "0.587: levenshtein_similarity\n",
        "0.587: edit_similarity\n",
        "0.587: levenshtein_similarity_jellyfish\n",
        "0.587: edit_similarity_nltk\n",
        "0.707: lcs_similarity\n",
        "0.721: containment_distance\n",
        "0.740: jaro_distance\n",
        "0.740: jaro_winkler_distance\n",
        "0.747: dice_coefficient_pattern\n",
        "0.747: dice_coefficient\n",
        "0.747: sorensen_distance_textsim\n",
        "0.873: needleman_wunsch_similarity\n",
        "1.000: match_rating_comparison\n",
        "50.000: damerau_levenshtein_distance_jellyfish\n",
        "50.000: levenshtein_distance_pattern\n",
        "50.000: levenshtein_distance_jellyfish\n",
        "50.000: damerau_levenshtein_distance\n",
        "50.000: edit_distance_nltk\n",
        "50.000: levenshtein_distance\n",
        "50.000: damerau_levenshtein_distance_textsim\n",
        "50.000: edit_distance\n",
        "81.000: lcs_distance\n",
        "100.000: needleman_wunsch_distance_pystring\n",
        "100.000: needleman_wunsch_distance\n",
        "102.000: hamming_distance\n",
        "115.000: smith_waterman_distance\n"
       ]
      }
     ],
     "prompt_number": 6
    },
    {
     "cell_type": "markdown",
     "metadata": {},
     "source": [
      "### **Calling a specific distance!**"
     ]
    },
    {
     "cell_type": "code",
     "collapsed": false,
     "input": [
      "levenshtein_distance_jellyfish(s1,s2)"
     ],
     "language": "python",
     "metadata": {},
     "outputs": [
      {
       "metadata": {},
       "output_type": "pyout",
       "prompt_number": 7,
       "text": [
        "50"
       ]
      }
     ],
     "prompt_number": 7
    },
    {
     "cell_type": "markdown",
     "metadata": {},
     "source": [
      "## Performance between String Similar Distances\n",
      "\n",
      "Some distances have the same value, but comes from different implementations. Which is better?\n",
      "The names of distances inside textim have been changed after run this performance test the first time.\n",
      "\n",
      "    E.g. levenshtein_distance = levenshtein_distance_jellyfish\n",
      "         damerau_levenshtein_distance = levenshtein_distance_pattern\n",
      "         \n",
      "damerau_levenshtein_distance_textsim is a self implementation, inside textsim package, of damerau_levenshtein_distance. The code is contained for students to take it as an example of implementation of this kind of distance."
     ]
    },
    {
     "cell_type": "code",
     "collapsed": false,
     "input": [
      "%timeit edit_similarity_nltk(s1,s2)\n",
      "%timeit levenshtein_similarity_jellyfish(s1,s2)\n",
      "%timeit levenshtein_similarity_pattern(s1,s2)\n",
      "%timeit levenshtein_similarity(s1,s2)\n"
     ],
     "language": "python",
     "metadata": {},
     "outputs": [
      {
       "output_type": "stream",
       "stream": "stdout",
       "text": [
        "100 loops, best of 3: 13.7 ms per loop\n",
        "100 loops, best of 3: 7.45 ms per loop"
       ]
      },
      {
       "output_type": "stream",
       "stream": "stdout",
       "text": [
        "\n",
        "100 loops, best of 3: 7.07 ms per loop"
       ]
      },
      {
       "output_type": "stream",
       "stream": "stdout",
       "text": [
        "\n",
        "100 loops, best of 3: 7.3 ms per loop"
       ]
      },
      {
       "output_type": "stream",
       "stream": "stdout",
       "text": [
        "\n"
       ]
      }
     ],
     "prompt_number": 8
    },
    {
     "cell_type": "code",
     "collapsed": false,
     "input": [
      "%timeit damerau_levenshtein_distance_jellyfish(s1,s2)\n",
      "%timeit damerau_levenshtein_distance_textsim(s1,s2)"
     ],
     "language": "python",
     "metadata": {},
     "outputs": [
      {
       "output_type": "stream",
       "stream": "stdout",
       "text": [
        "100 loops, best of 3: 13.9 ms per loop\n",
        "100 loops, best of 3: 14.8 ms per loop"
       ]
      },
      {
       "output_type": "stream",
       "stream": "stdout",
       "text": [
        "\n"
       ]
      }
     ],
     "prompt_number": 9
    },
    {
     "cell_type": "code",
     "collapsed": false,
     "input": [
      "%timeit edit_distance_nltk(s1,s2)\n",
      "%timeit levenshtein_distance_pattern(s1,s2)\n",
      "%timeit levenshtein_distance_jellyfish(s1,s2)\n",
      "%timeit levenshtein_distance(s1,s2)"
     ],
     "language": "python",
     "metadata": {},
     "outputs": [
      {
       "output_type": "stream",
       "stream": "stdout",
       "text": [
        "100 loops, best of 3: 12.4 ms per loop\n",
        "100 loops, best of 3: 7.1 ms per loop"
       ]
      },
      {
       "output_type": "stream",
       "stream": "stdout",
       "text": [
        "\n",
        "100 loops, best of 3: 7.33 ms per loop"
       ]
      },
      {
       "output_type": "stream",
       "stream": "stdout",
       "text": [
        "\n",
        "100 loops, best of 3: 7.1 ms per loop"
       ]
      },
      {
       "output_type": "stream",
       "stream": "stdout",
       "text": [
        "\n"
       ]
      }
     ],
     "prompt_number": 10
    },
    {
     "cell_type": "code",
     "collapsed": false,
     "input": [
      "%timeit dice_coefficient_pattern(s1,s2)\n",
      "%timeit sorensen_distance_textsim(s1,s2)"
     ],
     "language": "python",
     "metadata": {},
     "outputs": [
      {
       "output_type": "stream",
       "stream": "stdout",
       "text": [
        "10000 loops, best of 3: 69.8 \u00b5s per loop\n",
        "10000 loops, best of 3: 74.1 \u00b5s per loop"
       ]
      },
      {
       "output_type": "stream",
       "stream": "stdout",
       "text": [
        "\n"
       ]
      }
     ],
     "prompt_number": 11
    },
    {
     "cell_type": "code",
     "collapsed": false,
     "input": [
      "%timeit smith_waterman_distance(s1,s2)"
     ],
     "language": "python",
     "metadata": {},
     "outputs": [
      {
       "output_type": "stream",
       "stream": "stdout",
       "text": [
        "10 loops, best of 3: 40 ms per loop\n"
       ]
      }
     ],
     "prompt_number": 12
    },
    {
     "cell_type": "markdown",
     "metadata": {},
     "source": [
      "Old smith_waterman_distance from swalign package report 52.6 ms for the same test data."
     ]
    },
    {
     "cell_type": "code",
     "collapsed": false,
     "input": [
      "from textsim.stringdists.distances import needleman_wunsch_distance_textsim\n",
      "%timeit needleman_wunsch_distance(s1,s2)\n",
      "%timeit needleman_wunsch_distance_textsim(s1,s2)"
     ],
     "language": "python",
     "metadata": {},
     "outputs": [
      {
       "output_type": "stream",
       "stream": "stdout",
       "text": [
        "10 loops, best of 3: 32.2 ms per loop\n",
        "100 loops, best of 3: 10.4 ms per loop"
       ]
      },
      {
       "output_type": "stream",
       "stream": "stdout",
       "text": [
        "\n"
       ]
      }
     ],
     "prompt_number": 13
    },
    {
     "cell_type": "markdown",
     "metadata": {},
     "source": [
      "Although Needleman-Wunsch textsim implementation is faster than pystring, POO and flexibility of the pystring implementation to pass an arbitrary designed function (to value substitution/copy) as parameter makes it a goal for the next textsim package version.\n",
      "Also there is an error on textsim implementation tested by hand."
     ]
    },
    {
     "cell_type": "code",
     "collapsed": false,
     "input": [
      "%timeit lcs(s1,s2)"
     ],
     "language": "python",
     "metadata": {},
     "outputs": [
      {
       "output_type": "stream",
       "stream": "stdout",
       "text": [
        "100 loops, best of 3: 6.32 ms per loop\n"
       ]
      }
     ],
     "prompt_number": 14
    },
    {
     "cell_type": "code",
     "collapsed": false,
     "input": [
      "textsim.stringdists.__not_implemented__"
     ],
     "language": "python",
     "metadata": {},
     "outputs": [
      {
       "metadata": {},
       "output_type": "pyout",
       "prompt_number": 15,
       "text": [
        "['Gotoh distance', 'Monge Elkan distance', 'N-grams Overlap']"
       ]
      }
     ],
     "prompt_number": 15
    }
   ],
   "metadata": {}
  }
 ]
}