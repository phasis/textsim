{
 "cells": [
  {
   "cell_type": "markdown",
   "metadata": {},
   "source": [
    "# WordNet Augmented Word Overlap\n",
    "\n",
    "Based on [Saric2012](#Saric2012) design."
   ]
  },
  {
   "cell_type": "code",
   "execution_count": null,
   "metadata": {},
   "outputs": [],
   "source": [
    "from pandas import DataFrame\n",
    "from nltk.corpus import wordnet\n",
    "import numpy as np"
   ]
  },
  {
   "cell_type": "code",
   "execution_count": 1,
   "metadata": {},
   "outputs": [],
   "source": [
    "s1 = 'John Smith makes boats in the United States of America'\n",
    "s2 = 'John fabricates ships in US'\n",
    "\n",
    "index = s2.split()\n",
    "columns = s1.split()\n",
    "\n",
    "m=[]\n",
    "for wa in index:\n",
    "    row = []\n",
    "    syna = wordnet.synsets(wa)\n",
    "    for wb in columns:\n",
    "        synb = wordnet.synsets(wb)\n",
    "        mx = [was.path_similarity(wbs) for was in syna for wbs in synb]\n",
    "        mx = [item for item in mx if item is not None]\n",
    "        if len(mx) > 0:\n",
    "            row.append(max(mx))\n",
    "        else:\n",
    "            row.append(0.0)\n",
    "    m.append(row)\n",
    "M = np.asarray(m,dtype=np.float16)\n",
    "df = DataFrame(M,index=index,columns=columns)"
   ]
  },
  {
   "cell_type": "code",
   "execution_count": 2,
   "metadata": {},
   "outputs": [
    {
     "data": {
      "text/html": [
       "<div style=\"max-width:1500px;overflow:auto;\">\n",
       "<table border=\"1\" class=\"dataframe\">\n",
       "  <thead>\n",
       "    <tr style=\"text-align: right;\">\n",
       "      <th></th>\n",
       "      <th>John</th>\n",
       "      <th>Smith</th>\n",
       "      <th>makes</th>\n",
       "      <th>boats</th>\n",
       "      <th>in</th>\n",
       "      <th>the</th>\n",
       "      <th>United</th>\n",
       "      <th>States</th>\n",
       "      <th>of</th>\n",
       "      <th>America</th>\n",
       "    </tr>\n",
       "  </thead>\n",
       "  <tbody>\n",
       "    <tr>\n",
       "      <th>John</th>\n",
       "      <td>1.000000</td>\n",
       "      <td>0.166626</td>\n",
       "      <td>0.090881</td>\n",
       "      <td>0.111084</td>\n",
       "      <td>0.083313</td>\n",
       "      <td>0</td>\n",
       "      <td>0.000000</td>\n",
       "      <td>0.111084</td>\n",
       "      <td>0</td>\n",
       "      <td>0.111084</td>\n",
       "    </tr>\n",
       "    <tr>\n",
       "      <th>fabricates</th>\n",
       "      <td>0.076904</td>\n",
       "      <td>0.083313</td>\n",
       "      <td>0.500000</td>\n",
       "      <td>0.111084</td>\n",
       "      <td>0.166626</td>\n",
       "      <td>0</td>\n",
       "      <td>0.166626</td>\n",
       "      <td>0.142822</td>\n",
       "      <td>0</td>\n",
       "      <td>0.099976</td>\n",
       "    </tr>\n",
       "    <tr>\n",
       "      <th>ships</th>\n",
       "      <td>0.090881</td>\n",
       "      <td>0.099976</td>\n",
       "      <td>0.250000</td>\n",
       "      <td>0.333252</td>\n",
       "      <td>0.250000</td>\n",
       "      <td>0</td>\n",
       "      <td>0.250000</td>\n",
       "      <td>0.199951</td>\n",
       "      <td>0</td>\n",
       "      <td>0.125000</td>\n",
       "    </tr>\n",
       "    <tr>\n",
       "      <th>in</th>\n",
       "      <td>0.083313</td>\n",
       "      <td>0.099976</td>\n",
       "      <td>0.071411</td>\n",
       "      <td>0.076904</td>\n",
       "      <td>1.000000</td>\n",
       "      <td>0</td>\n",
       "      <td>0.000000</td>\n",
       "      <td>0.333252</td>\n",
       "      <td>0</td>\n",
       "      <td>0.142822</td>\n",
       "    </tr>\n",
       "    <tr>\n",
       "      <th>US</th>\n",
       "      <td>0.083313</td>\n",
       "      <td>0.099976</td>\n",
       "      <td>0.066650</td>\n",
       "      <td>0.076904</td>\n",
       "      <td>0.333252</td>\n",
       "      <td>0</td>\n",
       "      <td>0.000000</td>\n",
       "      <td>0.333252</td>\n",
       "      <td>0</td>\n",
       "      <td>1.000000</td>\n",
       "    </tr>\n",
       "  </tbody>\n",
       "</table>\n",
       "</div>"
      ],
      "text/plain": [
       "                John     Smith     makes     boats        in  the    United  \\\n",
       "John        1.000000  0.166626  0.090881  0.111084  0.083313    0  0.000000   \n",
       "fabricates  0.076904  0.083313  0.500000  0.111084  0.166626    0  0.166626   \n",
       "ships       0.090881  0.099976  0.250000  0.333252  0.250000    0  0.250000   \n",
       "in          0.083313  0.099976  0.071411  0.076904  1.000000    0  0.000000   \n",
       "US          0.083313  0.099976  0.066650  0.076904  0.333252    0  0.000000   \n",
       "\n",
       "              States  of   America  \n",
       "John        0.111084   0  0.111084  \n",
       "fabricates  0.142822   0  0.099976  \n",
       "ships       0.199951   0  0.125000  \n",
       "in          0.333252   0  0.142822  \n",
       "US          0.333252   0  1.000000  "
      ]
     },
     "execution_count": 2,
     "metadata": {},
     "output_type": "execute_result"
    }
   ],
   "source": [
    "df.take([ix for ix in range(len(df.index))])"
   ]
  },
  {
   "cell_type": "markdown",
   "metadata": {},
   "source": [
    "#Similarity Ecuation\n",
    "$p = {\\sum_{w\\in\\ sent_1}max(df[w][w']) \\over len(sent_1)} \\ \\ \\ \\forall\\ w' \\in\\ sent_2$\n",
    "\n",
    "$q = {\\sum_{w'\\in\\ sent_2}max(df[w][w']) \\over len(sent_2)} \\ \\ \\ \\forall\\ w \\in\\ sent_1$\n",
    "\n",
    "$sim = \\left\\{ \\begin{array}{rcl} \n",
    "0  & if\\ p+q = 0\\\\\n",
    "{2 p*q \\over (p+q)}  & others\\\\\n",
    "\\end{array}\n",
    "\\right.$"
   ]
  },
  {
   "cell_type": "code",
   "execution_count": 22,
   "metadata": {},
   "outputs": [
    {
     "name": "stdout",
     "output_type": "stream",
     "text": [
      "0.573675650301\n"
     ]
    }
   ],
   "source": [
    "p=0\n",
    "for wi in index:\n",
    "    m = 0\n",
    "    for wc in columns:\n",
    "        m = max(m, df[wc][wi])\n",
    "    p += m\n",
    "p = p/len(index)\n",
    "\n",
    "q=0\n",
    "for wc in columns:\n",
    "    m = 0\n",
    "    for wi in index:\n",
    "        m = max(m, df[wc][wi])\n",
    "    q += m\n",
    "q = q/len(columns)\n",
    "\n",
    "sim = 2*p*q/(p+q or 1)\n",
    "print(sim)"
   ]
  },
  {
   "cell_type": "markdown",
   "metadata": {},
   "source": [
    "<a id='references'></a>\n",
    "## References\n",
    "\n",
    "* <a id='Saric2012'></a>**[Saric2012]** Frane Šarić et all. *TakeLab: Systems for Measuring Semantic Text Similarity*.<br>\n",
    "    In Proceedings of the First Joint Conference on Lexical and Computational Semantics (SEM '12).<br>\n",
    "    Association for Computational Linguistics, 2012, 1, 441-448."
   ]
  }
 ],
 "metadata": {
  "kernelspec": {
   "display_name": "Python 3",
   "language": "python",
   "name": "python3"
  },
  "language_info": {
   "codemirror_mode": {
    "name": "ipython",
    "version": 3
   },
   "file_extension": ".py",
   "mimetype": "text/x-python",
   "name": "python",
   "nbconvert_exporter": "python",
   "pygments_lexer": "ipython3",
   "version": "3.5.2"
  }
 },
 "nbformat": 4,
 "nbformat_minor": 1
}
