{
 "metadata": {
  "name": "",
  "signature": "sha256:03f1cddd323c71d7da09ef3b870162cb69f7ab6331ca9041ba42d4961337ada8"
 },
 "nbformat": 3,
 "nbformat_minor": 0,
 "worksheets": [
  {
   "cells": [
    {
     "cell_type": "markdown",
     "metadata": {},
     "source": [
      "# String Distance Examples"
     ]
    },
    {
     "cell_type": "code",
     "collapsed": false,
     "input": [
      "cd ../../"
     ],
     "language": "python",
     "metadata": {},
     "outputs": [
      {
       "output_type": "stream",
       "stream": "stdout",
       "text": [
        "/home/abelm\n"
       ]
      }
     ],
     "prompt_number": 1
    },
    {
     "cell_type": "code",
     "collapsed": false,
     "input": [
      "import textsim\n",
      "from textsim import *"
     ],
     "language": "python",
     "metadata": {},
     "outputs": [],
     "prompt_number": 2
    },
    {
     "cell_type": "code",
     "collapsed": false,
     "input": [
      "s1 = \"PCCW's chief operating officer, Mike Butcher, and Alex Arena, the chief financial officer, will report directly to Mr So.\"\n",
      "s2 = \"Current Chief Operating Officer Mike Butcher and Group Chief Financial Officer Alex Arena will report to So.\""
     ],
     "language": "python",
     "metadata": {},
     "outputs": [],
     "prompt_number": 3
    },
    {
     "cell_type": "markdown",
     "metadata": {},
     "source": [
      "### **Listing all available distances!**"
     ]
    },
    {
     "cell_type": "code",
     "collapsed": false,
     "input": [
      "print('total',len(textsim.stringdists.__all__))\n",
      "textsim.stringdists.__all__"
     ],
     "language": "python",
     "metadata": {},
     "outputs": [
      {
       "output_type": "stream",
       "stream": "stdout",
       "text": [
        "total 23\n"
       ]
      },
      {
       "metadata": {},
       "output_type": "pyout",
       "prompt_number": 4,
       "text": [
        "['levenshtein_distance_pattern',\n",
        " 'smith_waterman_distance',\n",
        " 'hamming_distance',\n",
        " 'edit_similarity',\n",
        " 'levenshtein_similarity_jellyfish',\n",
        " 'lcs_distance',\n",
        " 'needleman_wunch',\n",
        " 'edit_distance',\n",
        " 'binary_distance',\n",
        " 'levenshtein_similarity_pattern',\n",
        " 'levenshtein_distance',\n",
        " 'levenshtein_distance_jellyfish',\n",
        " 'needleman_wunch_distance',\n",
        " 'lcs_similarity',\n",
        " 'edit_distance_nltk',\n",
        " 'damerau_levenshtein_distance_textsim',\n",
        " 'levenshtein_similarity',\n",
        " 'jaro_winkler_distance',\n",
        " 'edit_similarity_nltk',\n",
        " 'dice_coefficient_pattern',\n",
        " 'damerau_levenshtein_similarity',\n",
        " 'damerau_levenshtein_distance_jellyfish',\n",
        " 'jaro_distance']"
       ]
      }
     ],
     "prompt_number": 4
    },
    {
     "cell_type": "markdown",
     "metadata": {},
     "source": [
      "### **Calling all distances in a flash!**"
     ]
    },
    {
     "cell_type": "code",
     "collapsed": false,
     "input": [
      "dictdist = {}\n",
      "for metric in textsim.stringdists.PAIRED_DISTANCES:\n",
      "    func = textsim.stringdists.PAIRED_DISTANCES[metric]\n",
      "    dictdist[metric] = float(func(s1,s2))\n",
      "\n",
      "dictcp = dictdist.copy()\n",
      "for value in sorted(dictdist.values()):\n",
      "    for word in dictdist.keys():\n",
      "        if dictdist[word] == value and word in dictcp:\n",
      "            print('%.3f: %s' % (value,word))\n",
      "            dictcp.pop(word)"
     ],
     "language": "python",
     "metadata": {},
     "outputs": [
      {
       "output_type": "stream",
       "stream": "stdout",
       "text": [
        "0.000: binary_distance\n",
        "0.413: levenshtein_similarity_jellyfish\n",
        "0.413: levenshtein_similarity\n",
        "0.413: edit_similarity\n",
        "0.413: edit_similarity_nltk\n",
        "0.587: damerau_levenshtein_distance_textsim\n",
        "0.587: levenshtein_similarity_pattern\n",
        "0.587: damerau_levenshtein_similarity\n",
        "0.669: lcs_similarity\n",
        "0.688: smith_waterman_distance\n",
        "0.740: jaro_winkler_distance\n",
        "0.740: jaro_distance\n",
        "0.747: dice_coefficient_pattern\n",
        "0.818: needleman_wunch_distance\n",
        "50.000: levenshtein_distance_pattern\n",
        "50.000: edit_distance\n",
        "50.000: levenshtein_distance\n",
        "50.000: levenshtein_distance_jellyfish\n",
        "50.000: edit_distance_nltk\n",
        "50.000: damerau_levenshtein_distance_jellyfish\n",
        "81.000: lcs_distance\n",
        "99.000: needleman_wunch\n",
        "102.000: hamming_distance\n"
       ]
      }
     ],
     "prompt_number": 5
    },
    {
     "cell_type": "markdown",
     "metadata": {},
     "source": [
      "### **Calling a specific distance!**"
     ]
    },
    {
     "cell_type": "code",
     "collapsed": false,
     "input": [
      "levenshtein_distance_jellyfish(s1,s2)"
     ],
     "language": "python",
     "metadata": {},
     "outputs": [
      {
       "metadata": {},
       "output_type": "pyout",
       "prompt_number": 6,
       "text": [
        "50"
       ]
      }
     ],
     "prompt_number": 6
    },
    {
     "cell_type": "markdown",
     "metadata": {},
     "source": [
      "## Performance between String Similar Distances\n",
      "\n",
      "Some distances have the same value, but comes from different implementations. Which is better?\n",
      "The names of distances inside textim have been changed after run this performance test the first time.\n",
      "\n",
      "    E.g. levenshtein_distance = levenshtein_distance_jellyfish\n",
      "         damerau_levenshtein_distance = levenshtein_distance_pattern\n",
      "         \n",
      "damerau_levenshtein_distance_textsim is a self implementation, inside textsim package, of damerau_levenshtein_distance. The code is contained for students to take it as an example of implementation of this kind of distance."
     ]
    },
    {
     "cell_type": "code",
     "collapsed": false,
     "input": [
      "%timeit edit_similarity_nltk(s1,s2)\n",
      "%timeit levenshtein_similarity_jellyfish(s1,s2)\n",
      "%timeit levenshtein_similarity(s1,s2)"
     ],
     "language": "python",
     "metadata": {},
     "outputs": [
      {
       "output_type": "stream",
       "stream": "stdout",
       "text": [
        "100 loops, best of 3: 12.6 ms per loop\n",
        "100 loops, best of 3: 7.2 ms per loop"
       ]
      },
      {
       "output_type": "stream",
       "stream": "stdout",
       "text": [
        "\n",
        "100 loops, best of 3: 7.17 ms per loop"
       ]
      },
      {
       "output_type": "stream",
       "stream": "stdout",
       "text": [
        "\n"
       ]
      }
     ],
     "prompt_number": 12
    },
    {
     "cell_type": "code",
     "collapsed": false,
     "input": [
      "%timeit damerau_levenshtein_distance_textsim(s1,s2)\n",
      "%timeit levenshtein_similarity_pattern(s1,s2)\n",
      "%timeit damerau_levenshtein_similarity(s1,s2)"
     ],
     "language": "python",
     "metadata": {},
     "outputs": [
      {
       "output_type": "stream",
       "stream": "stdout",
       "text": [
        "100 loops, best of 3: 15.2 ms per loop\n",
        "100 loops, best of 3: 7.09 ms per loop"
       ]
      },
      {
       "output_type": "stream",
       "stream": "stdout",
       "text": [
        "\n",
        "100 loops, best of 3: 7.13 ms per loop"
       ]
      },
      {
       "output_type": "stream",
       "stream": "stdout",
       "text": [
        "\n"
       ]
      }
     ],
     "prompt_number": 13
    },
    {
     "cell_type": "code",
     "collapsed": false,
     "input": [
      "%timeit edit_distance_nltk(s1,s2)\n",
      "%timeit damerau_levenshtein_distance_jellyfish(s1,s2)\n",
      "%timeit levenshtein_distance_pattern(s1,s2)\n",
      "%timeit levenshtein_distance_jellyfish(s1,s2)\n",
      "%timeit levenshtein_distance(s1,s2)"
     ],
     "language": "python",
     "metadata": {},
     "outputs": [
      {
       "output_type": "stream",
       "stream": "stdout",
       "text": [
        "100 loops, best of 3: 12.4 ms per loop\n",
        "100 loops, best of 3: 14.2 ms per loop"
       ]
      },
      {
       "output_type": "stream",
       "stream": "stdout",
       "text": [
        "\n",
        "100 loops, best of 3: 7.16 ms per loop"
       ]
      },
      {
       "output_type": "stream",
       "stream": "stdout",
       "text": [
        "\n",
        "100 loops, best of 3: 7.45 ms per loop"
       ]
      },
      {
       "output_type": "stream",
       "stream": "stdout",
       "text": [
        "\n",
        "100 loops, best of 3: 7.19 ms per loop"
       ]
      },
      {
       "output_type": "stream",
       "stream": "stdout",
       "text": [
        "\n"
       ]
      }
     ],
     "prompt_number": 14
    },
    {
     "cell_type": "code",
     "collapsed": false,
     "input": [
      "textsim.stringdists.__not_implemented__"
     ],
     "language": "python",
     "metadata": {},
     "outputs": [
      {
       "metadata": {},
       "output_type": "pyout",
       "prompt_number": 11,
       "text": [
        "['Gotoh distance', 'Monge Elkan distance']"
       ]
      }
     ],
     "prompt_number": 11
    }
   ],
   "metadata": {}
  }
 ]
}