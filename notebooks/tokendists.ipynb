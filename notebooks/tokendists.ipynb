{
 "cells": [
  {
   "cell_type": "code",
   "execution_count": null,
   "metadata": {},
   "outputs": [],
   "source": [
    "# Tokens Distance Examples"
   ]
  },
  {
   "cell_type": "code",
   "execution_count": 1,
   "metadata": {},
   "outputs": [
    {
     "name": "stdout",
     "output_type": "stream",
     "text": [
      "/home/abelm\n"
     ]
    }
   ],
   "source": [
    "cd ../../"
   ]
  },
  {
   "cell_type": "code",
   "execution_count": 2,
   "metadata": {},
   "outputs": [],
   "source": [
    "import textsim\n",
    "from textsim import *"
   ]
  },
  {
   "cell_type": "code",
   "execution_count": 3,
   "metadata": {},
   "outputs": [],
   "source": [
    "s1 = \"\"\"PCCW's chief operating officer, Mike Butcher, and Alex Arena, \n",
    "        the chief financial officer, will report directly to Mr So.\"\"\"\n",
    "s2 = \"\"\"Current Chief Operating Officer Mike Butcher and Group Chief \n",
    "        Financial Officer Alex Arena will report to So.\"\"\""
   ]
  },
  {
   "cell_type": "markdown",
   "metadata": {},
   "source": [
    "### **Listing all available distances!**"
   ]
  },
  {
   "cell_type": "code",
   "execution_count": 4,
   "metadata": {},
   "outputs": [
    {
     "name": "stdout",
     "output_type": "stream",
     "text": [
      "total 35\n"
     ]
    },
    {
     "data": {
      "text/plain": [
       "['mahalanobis_distance_scipy',\n",
       " 'chebyshev_distance_scipy',\n",
       " 'interval_distance',\n",
       " 'overlap_distance_textsim',\n",
       " 'manhattan_distance_sklearn',\n",
       " 'correlation_distance_scipy',\n",
       " 'masi_distance',\n",
       " 'kulsinski_distance_scipy',\n",
       " 'cityblock_distance_scipy',\n",
       " 'hamming_distance_scipy',\n",
       " 'yule_distance_scipy',\n",
       " 'matching_distance_scipy',\n",
       " 'jaccard_distance_textsim',\n",
       " 'matching_coefficient_textsim',\n",
       " 'sqeuclidean_distance_scipy',\n",
       " 'dice_coefficient_textsim',\n",
       " 'braycurtis_distance_scipy',\n",
       " 'cosine_distance_scipy',\n",
       " 'sokalsneath_distance_scipy',\n",
       " 'euclidean_distance_scipy',\n",
       " 'matching_coefficient_pablo',\n",
       " 'sokalmichener_distance_scipy',\n",
       " 'cosine_similarity_sklearn',\n",
       " 'jaccard_distance_scipy',\n",
       " 'jaccard_distance_nltk',\n",
       " 'dice_distance_scipy',\n",
       " 'minkowski_distance_scipy',\n",
       " 'euclidean_distance_sklearn',\n",
       " 'canberra_distance_scipy',\n",
       " 'seuclidean_distance_scipy',\n",
       " 'rogerstanimoto_distance_scipy',\n",
       " 'russellrao_distance_scipy',\n",
       " 'token_containment_distance',\n",
       " 'qgram_distance',\n",
       " 'cosine_distance_sklearn']"
      ]
     },
     "execution_count": 4,
     "metadata": {},
     "output_type": "execute_result"
    }
   ],
   "source": [
    "print('total',len(textsim.tokendists.__all__))\n",
    "textsim.tokendists.__all__"
   ]
  },
  {
   "cell_type": "markdown",
   "metadata": {},
   "source": [
    "### **Calling all distances in a flash!**"
   ]
  },
  {
   "cell_type": "code",
   "execution_count": 5,
   "metadata": {},
   "outputs": [
    {
     "name": "stdout",
     "output_type": "stream",
     "text": [
      "-0.267: sokalsneath_distance_scipy\n",
      "-0.235: sokalmichener_distance_scipy\n",
      "-0.235: rogerstanimoto_distance_scipy\n",
      "-0.118: kulsinski_distance_scipy\n",
      "-0.105: matching_distance_scipy\n",
      "-0.056: dice_distance_scipy\n",
      "-0.000: yule_distance_scipy\n",
      "-0.000: russellrao_distance_scipy\n",
      "0.135: cosine_distance_scipy\n",
      "0.135: cosine_distance_sklearn\n",
      "0.167: braycurtis_distance_scipy\n",
      "0.316: hamming_distance_scipy\n",
      "0.316: jaccard_distance_scipy\n",
      "0.412: matching_coefficient_pablo\n",
      "0.438: qgram_distance\n",
      "0.545: jaccard_distance_textsim\n",
      "0.545: jaccard_distance_nltk\n",
      "0.584: correlation_distance_scipy\n",
      "0.588: token_containment_distance\n",
      "0.625: dice_coefficient_textsim\n",
      "0.667: overlap_distance_textsim\n",
      "0.850: masi_distance\n",
      "0.865: cosine_similarity_sklearn\n",
      "1.000: chebyshev_distance_scipy\n",
      "2.449: euclidean_distance_scipy\n",
      "2.449: euclidean_distance_sklearn\n",
      "4.000: interval_distance\n",
      "4.243: mahalanobis_distance_scipy\n",
      "6.000: manhattan_distance_sklearn\n",
      "6.000: cityblock_distance_scipy\n",
      "6.000: sqeuclidean_distance_scipy\n",
      "6.000: minkowski_distance_scipy\n",
      "6.000: canberra_distance_scipy\n",
      "22.000: matching_coefficient_textsim\n"
     ]
    },
    {
     "name": "stderr",
     "output_type": "stream",
     "text": [
      "/home/abelm/textsim/tokendists/distances.py:232: RuntimeWarning: invalid value encountered in true_divide\n",
      "  return np.sqrt(((XA - XB) ** 2 / V).sum())\n"
     ]
    }
   ],
   "source": [
    "dictdist = {}\n",
    "for metric in textsim.tokendists.PAIRED_DISTANCES:\n",
    "    func = textsim.tokendists.PAIRED_DISTANCES[metric]\n",
    "    try:\n",
    "        dictdist[metric] = float(func(s1,s2))\n",
    "    except:\n",
    "        pass\n",
    "    \n",
    "dictcp = dictdist.copy()\n",
    "for value in sorted(dictdist.values()):\n",
    "    for word in dictdist.keys():\n",
    "        if dictdist[word] == value and word in dictcp:\n",
    "            print('%.3f: %s' % (value,word))\n",
    "            dictcp.pop(word)"
   ]
  },
  {
   "cell_type": "markdown",
   "metadata": {},
   "source": [
    "### **Calling a specific distance!**"
   ]
  },
  {
   "cell_type": "code",
   "execution_count": 6,
   "metadata": {},
   "outputs": [
    {
     "data": {
      "text/plain": [
       "0.5454545454545454"
      ]
     },
     "execution_count": 6,
     "metadata": {},
     "output_type": "execute_result"
    }
   ],
   "source": [
    "jaccard_distance_textsim(s1,s2)"
   ]
  },
  {
   "cell_type": "markdown",
   "metadata": {},
   "source": [
    "## Performance between Token-Based Similar Distances\n",
    "\n",
    "Some distances have the same value, but comes from different implementations. Which is better?\n",
    "The names of distances inside textim have been changed after run this performance test the first time.\n",
    "\n",
    "    E.g. jaccard_distance = jaccard_distance_nltk\n",
    "         \n",
    "jaccard_distance_textsim is a self implementation, inside textsim package, of jaccard_distance. The code is contained for students to take it as an example of implementation of this kind of distance."
   ]
  },
  {
   "cell_type": "code",
   "execution_count": 7,
   "metadata": {
    "collapsed": true
   },
   "outputs": [
    {
     "name": "stdout",
     "output_type": "stream",
     "text": [
      "100000 loops, best of 3: 12 µs per loop\n",
      "100000 loops, best of 3: 11.1 µs per loop\n",
      "1000 loops, best of 3: 1.71 ms per loop\n"
     ]
    }
   ],
   "source": [
    "%timeit jaccard_distance_nltk(s1,s2)\n",
    "%timeit jaccard_distance_textsim(s1,s2)\n",
    "%timeit jaccard_distance_scipy(s1,s2)"
   ]
  },
  {
   "cell_type": "code",
   "execution_count": 8,
   "metadata": {},
   "outputs": [
    {
     "name": "stdout",
     "output_type": "stream",
     "text": [
      "1000 loops, best of 3: 1.72 ms per loop\n",
      "1000 loops, best of 3: 1.87 ms per loop\n"
     ]
    }
   ],
   "source": [
    "%timeit cosine_distance_scipy(s1,s2)\n",
    "%timeit cosine_distance_sklearn(s1,s2)"
   ]
  },
  {
   "cell_type": "code",
   "execution_count": 9,
   "metadata": {},
   "outputs": [
    {
     "data": {
      "text/plain": [
       "['Kullback-Leibler distance',\n",
       " 'Hellinger distance',\n",
       " 'Jensen Shanon divergence',\n",
       " 'Harmonic Mean distance',\n",
       " 'Skew divergence',\n",
       " 'Tau distance',\n",
       " 'Containment distance',\n",
       " 'Q-gram Overlap',\n",
       " 'Skip-grams distance',\n",
       " 'Greedy String Tiling']"
      ]
     },
     "execution_count": 9,
     "metadata": {},
     "output_type": "execute_result"
    }
   ],
   "source": [
    "textsim.tokendists.__not_implemented__"
   ]
  },
  {
   "cell_type": "markdown",
   "metadata": {},
   "source": [
    "# Qgram Distance Examples"
   ]
  },
  {
   "cell_type": "code",
   "execution_count": 10,
   "metadata": {},
   "outputs": [
    {
     "name": "stdout",
     "output_type": "stream",
     "text": [
      "0.4375\n",
      "0.058823529411764705\n",
      "0.0\n",
      "0.05555555555555555\n"
     ]
    }
   ],
   "source": [
    "print(qgram_distance(s1,s2))\n",
    "print(qgram_distance(s1,s2,n=2))\n",
    "print(qgram_distance(s1,s2,n=3))\n",
    "print(qgram_distance(s1,s2,n=2,method='overlap'))"
   ]
  },
  {
   "cell_type": "markdown",
   "metadata": {},
   "source": [
    "# Syntactic Qgram Distance Examples"
   ]
  },
  {
   "cell_type": "code",
   "execution_count": 11,
   "metadata": {},
   "outputs": [
    {
     "name": "stdout",
     "output_type": "stream",
     "text": [
      "28.136187076568604\n"
     ]
    }
   ],
   "source": [
    "import time\n",
    "#Syntanctic preprocessing of texts\n",
    "from preprocess import deep, shallow\n",
    "init = time.time()\n",
    "#Name Entity Transformations\n",
    "s1A = deep.ner(s1,multioutput='raw_value')\n",
    "s1B = deep.ner(s1,multioutput='tuple_list')\n",
    "s1C = deep.ner(s1,multioutput='raw_tag')\n",
    "s2A = deep.ner(s2,multioutput='raw_value')\n",
    "s2B = deep.ner(s2,multioutput='tuple_list')\n",
    "s2C = deep.ner(s2,multioutput='raw_tag')\n",
    "\n",
    "#Part of Speech Transformations\n",
    "s1D = shallow.pos(s1,multioutput='raw_value')\n",
    "s1E = shallow.pos(s1,multioutput='tuple_list')\n",
    "s1F = shallow.pos(s1,multioutput='raw_tag')\n",
    "s2D = shallow.pos(s2,multioutput='raw_value')\n",
    "s2E = shallow.pos(s2,multioutput='tuple_list')\n",
    "s2F = shallow.pos(s2,multioutput='raw_tag')\n",
    "\n",
    "end = time.time()-init\n",
    "print(end)"
   ]
  },
  {
   "cell_type": "code",
   "execution_count": 12,
   "metadata": {},
   "outputs": [
    {
     "name": "stdout",
     "output_type": "stream",
     "text": [
      "0.375\n",
      "0.058823529411764705\n",
      "0.0\n",
      "0.05555555555555555\n"
     ]
    }
   ],
   "source": [
    "print(qgram_distance(s1A,s2A))\n",
    "print(qgram_distance(s1A,s2A,n=2))\n",
    "print(qgram_distance(s1A,s2A,n=3))\n",
    "print(qgram_distance(s1A,s2A,n=2,method='overlap'))"
   ]
  },
  {
   "cell_type": "code",
   "execution_count": 13,
   "metadata": {},
   "outputs": [
    {
     "name": "stdout",
     "output_type": "stream",
     "text": [
      "0.375\n",
      "0.058823529411764705\n",
      "0.0\n",
      "0.05555555555555555\n"
     ]
    }
   ],
   "source": [
    "print(qgram_distance(s1B,s2B))\n",
    "print(qgram_distance(s1B,s2B,n=2))\n",
    "print(qgram_distance(s1B,s2B,n=3))\n",
    "print(qgram_distance(s1B,s2B,n=2,method='overlap'))"
   ]
  },
  {
   "cell_type": "code",
   "execution_count": 14,
   "metadata": {},
   "outputs": [
    {
     "name": "stdout",
     "output_type": "stream",
     "text": [
      "0.38461538461538464\n",
      "0.1935483870967742\n",
      "0.06451612903225806\n",
      "0.17647058823529413\n"
     ]
    }
   ],
   "source": [
    "print(qgram_distance(s1C,s2C))\n",
    "print(qgram_distance(s1C,s2C,n=2))\n",
    "print(qgram_distance(s1C,s2C,n=3))\n",
    "print(qgram_distance(s1C,s2C,n=2,method='overlap'))"
   ]
  },
  {
   "cell_type": "code",
   "execution_count": 15,
   "metadata": {},
   "outputs": [
    {
     "name": "stdout",
     "output_type": "stream",
     "text": [
      "0.4375\n",
      "0.058823529411764705\n",
      "0.0\n",
      "0.05555555555555555\n"
     ]
    }
   ],
   "source": [
    "print(qgram_distance(s1D,s2D))\n",
    "print(qgram_distance(s1D,s2D,n=2))\n",
    "print(qgram_distance(s1D,s2D,n=3))\n",
    "print(qgram_distance(s1D,s2D,n=2,method='overlap'))"
   ]
  },
  {
   "cell_type": "code",
   "execution_count": 16,
   "metadata": {},
   "outputs": [
    {
     "name": "stdout",
     "output_type": "stream",
     "text": [
      "0.4375\n",
      "0.058823529411764705\n",
      "0.0\n",
      "0.05555555555555555\n"
     ]
    }
   ],
   "source": [
    "print(qgram_distance(s1E,s2E))\n",
    "print(qgram_distance(s1E,s2E,n=2))\n",
    "print(qgram_distance(s1E,s2E,n=3))\n",
    "print(qgram_distance(s1E,s2E,n=2,method='overlap'))"
   ]
  },
  {
   "cell_type": "code",
   "execution_count": 17,
   "metadata": {},
   "outputs": [
    {
     "name": "stdout",
     "output_type": "stream",
     "text": [
      "0.7058823529411765\n",
      "0.4166666666666667\n",
      "0.23076923076923078\n",
      "0.3125\n"
     ]
    }
   ],
   "source": [
    "print(qgram_distance(s1F,s2F))\n",
    "print(qgram_distance(s1F,s2F,n=2))\n",
    "print(qgram_distance(s1F,s2F,n=3))\n",
    "print(qgram_distance(s1F,s2F,n=2,method='overlap'))"
   ]
  },
  {
   "cell_type": "code",
   "execution_count": 18,
   "metadata": {},
   "outputs": [
    {
     "name": "stdout",
     "output_type": "stream",
     "text": [
      "- Current Chief Operating Officer Mike Butcher and Group Chief \n",
      "        Financial Officer Alex Arena will report to So.\n",
      "A- Current Chief Operating Officer Mike/PERSON Butcher/PERSON and Group Chief Financial Officer Alex/PERSON Arena/PERSON will report to So./LOCATION \n",
      "B- [('Current', 'O'), ('Chief', 'O'), ('Operating', 'O'), ('Officer', 'O'), ('Mike', 'PERSON'), ('Butcher', 'PERSON'), ('and', 'O'), ('Group', 'O'), ('Chief', 'O'), ('Financial', 'O'), ('Officer', 'O'), ('Alex', 'PERSON'), ('Arena', 'PERSON'), ('will', 'O'), ('report', 'O'), ('to', 'O'), ('So.', 'LOCATION')]\n",
      "C- Current Chief Operating Officer PERSON PERSON and Group Chief Financial Officer PERSON PERSON will report to LOCATION \n",
      "D- Current/JJ Chief/NNP Operating/NNP Officer/NNP Mike/NNP Butcher/NNP and/CC Group/NNP Chief/NNP Financial/NNP Officer/NNP Alex/NNP Arena/NNP will/MD report/VB to/TO So./NNP \n",
      "E- [('Current', 'JJ'), ('Chief', 'NNP'), ('Operating', 'NNP'), ('Officer', 'NNP'), ('Mike', 'NNP'), ('Butcher', 'NNP'), ('and', 'CC'), ('Group', 'NNP'), ('Chief', 'NNP'), ('Financial', 'NNP'), ('Officer', 'NNP'), ('Alex', 'NNP'), ('Arena', 'NNP'), ('will', 'MD'), ('report', 'VB'), ('to', 'TO'), ('So.', 'NNP')]\n",
      "F- JJ NNP NNP NNP NNP NNP CC NNP NNP NNP NNP NNP NNP MD VB TO NNP \n"
     ]
    }
   ],
   "source": [
    "print('-',s2)\n",
    "print('A-',s2A)\n",
    "print('B-',s2B)\n",
    "print('C-',s2C)\n",
    "print('D-',s2D)\n",
    "print('E-',s2E)\n",
    "print('F-',s2F)"
   ]
  },
  {
   "cell_type": "markdown",
   "metadata": {},
   "source": [
    "## Evaluating All Tokendists with Tuple-List Structures"
   ]
  },
  {
   "cell_type": "code",
   "execution_count": 21,
   "metadata": {},
   "outputs": [
    {
     "name": "stdout",
     "output_type": "stream",
     "text": [
      "0.6086956521739131\n",
      "0.5454545454545454\n"
     ]
    }
   ],
   "source": [
    "#tokendist distances works with tuple list by default\n",
    "print(jaccard_distance_textsim(s1A,s2A))\n",
    "print(jaccard_distance_textsim(s1,s2))"
   ]
  }
 ],
 "metadata": {
  "kernelspec": {
   "display_name": "Python 3",
   "language": "python",
   "name": "python3"
  },
  "language_info": {
   "codemirror_mode": {
    "name": "ipython",
    "version": 3
   },
   "file_extension": ".py",
   "mimetype": "text/x-python",
   "name": "python",
   "nbconvert_exporter": "python",
   "pygments_lexer": "ipython3",
   "version": "3.5.2"
  }
 },
 "nbformat": 4,
 "nbformat_minor": 1
}
