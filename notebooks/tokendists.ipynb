{
 "metadata": {
  "name": "",
  "signature": "sha256:ebc51907ea942f733b94ef94fe2c3db8504a034464cd8b999d2aab7fed7e64ca"
 },
 "nbformat": 3,
 "nbformat_minor": 0,
 "worksheets": [
  {
   "cells": [
    {
     "cell_type": "markdown",
     "metadata": {},
     "source": [
      "# Tokens Distance Examples"
     ]
    },
    {
     "cell_type": "code",
     "collapsed": false,
     "input": [
      "cd ../../"
     ],
     "language": "python",
     "metadata": {},
     "outputs": [
      {
       "output_type": "stream",
       "stream": "stdout",
       "text": [
        "/home/abelm\n"
       ]
      }
     ],
     "prompt_number": 1
    },
    {
     "cell_type": "code",
     "collapsed": false,
     "input": [
      "import textsim\n",
      "from textsim import *"
     ],
     "language": "python",
     "metadata": {},
     "outputs": [],
     "prompt_number": 2
    },
    {
     "cell_type": "code",
     "collapsed": false,
     "input": [
      "s1 = \"\"\"PCCW's chief operating officer, Mike Butcher, and Alex Arena, \n",
      "        the chief financial officer, will report directly to Mr So.\"\"\"\n",
      "s2 = \"\"\"Current Chief Operating Officer Mike Butcher and Group Chief \n",
      "        Financial Officer Alex Arena will report to So.\"\"\""
     ],
     "language": "python",
     "metadata": {},
     "outputs": [],
     "prompt_number": 3
    },
    {
     "cell_type": "markdown",
     "metadata": {},
     "source": [
      "### **Listing all available distances!**"
     ]
    },
    {
     "cell_type": "code",
     "collapsed": false,
     "input": [
      "print('total',len(textsim.tokendists.__all__))\n",
      "textsim.tokendists.__all__"
     ],
     "language": "python",
     "metadata": {},
     "outputs": [
      {
       "output_type": "stream",
       "stream": "stdout",
       "text": [
        "total 35\n"
       ]
      },
      {
       "metadata": {},
       "output_type": "pyout",
       "prompt_number": 4,
       "text": [
        "['matching_coefficient_textsim',\n",
        " 'euclidean_distance_sklearn',\n",
        " 'minkowski_distance_scipy',\n",
        " 'hamming_distance_scipy',\n",
        " 'sokalsneath_distance_scipy',\n",
        " 'dice_coefficient_textsim',\n",
        " 'dice_distance_scipy',\n",
        " 'matching_coefficient_pablo',\n",
        " 'jaccard_distance_textsim',\n",
        " 'kulsinski_distance_scipy',\n",
        " 'sokalmichener_distance_scipy',\n",
        " 'yule_distance_scipy',\n",
        " 'correlation_distance_scipy',\n",
        " 'sqeuclidean_distance_scipy',\n",
        " 'rogerstanimoto_distance_scipy',\n",
        " 'cosine_distance_sklearn',\n",
        " 'overlap_distance_textsim',\n",
        " 'canberra_distance_scipy',\n",
        " 'qgram_distance',\n",
        " 'jaccard_distance_nltk',\n",
        " 'cityblock_distance_scipy',\n",
        " 'chebyshev_distance_scipy',\n",
        " 'braycurtis_distance_scipy',\n",
        " 'cosine_distance_scipy',\n",
        " 'mahalanobis_distance_scipy',\n",
        " 'seuclidean_distance_scipy',\n",
        " 'russellrao_distance_scipy',\n",
        " 'jaccard_distance_scipy',\n",
        " 'masi_distance',\n",
        " 'token_containment_distance',\n",
        " 'matching_distance_scipy',\n",
        " 'cosine_similarity_sklearn',\n",
        " 'manhattan_distance_sklearn',\n",
        " 'euclidean_distance_scipy',\n",
        " 'interval_distance']"
       ]
      }
     ],
     "prompt_number": 4
    },
    {
     "cell_type": "markdown",
     "metadata": {},
     "source": [
      "### **Calling all distances in a flash!**"
     ]
    },
    {
     "cell_type": "code",
     "collapsed": false,
     "input": [
      "dictdist = {}\n",
      "for metric in textsim.tokendists.PAIRED_DISTANCES:\n",
      "    func = textsim.tokendists.PAIRED_DISTANCES[metric]\n",
      "    try:\n",
      "        dictdist[metric] = float(func(s1,s2))\n",
      "    except:\n",
      "        pass\n",
      "    \n",
      "dictcp = dictdist.copy()\n",
      "for value in sorted(dictdist.values()):\n",
      "    for word in dictdist.keys():\n",
      "        if dictdist[word] == value and word in dictcp:\n",
      "            print('%.3f: %s' % (value,word))\n",
      "            dictcp.pop(word)"
     ],
     "language": "python",
     "metadata": {},
     "outputs": [
      {
       "output_type": "stream",
       "stream": "stdout",
       "text": [
        "-0.267: sokalsneath_distance_scipy\n",
        "-0.235: sokalmichener_distance_scipy\n",
        "-0.235: rogerstanimoto_distance_scipy\n",
        "-0.118: kulsinski_distance_scipy\n",
        "-0.105: matching_distance_scipy\n",
        "-0.056: dice_distance_scipy\n",
        "-0.000: yule_distance_scipy\n",
        "-0.000: russellrao_distance_scipy\n",
        "0.135: cosine_distance_scipy\n",
        "0.135: cosine_distance_sklearn\n",
        "0.167: braycurtis_distance_scipy\n",
        "0.316: jaccard_distance_scipy\n",
        "0.316: hamming_distance_scipy\n",
        "0.412: matching_coefficient_pablo\n",
        "0.438: qgram_distance\n",
        "0.545: jaccard_distance_textsim\n",
        "0.545: jaccard_distance_nltk\n",
        "0.584: correlation_distance_scipy\n",
        "0.588: token_containment_distance\n",
        "0.625: dice_coefficient_textsim\n",
        "0.667: overlap_distance_textsim\n",
        "0.850: masi_distance\n",
        "0.865: cosine_similarity_sklearn\n",
        "1.000: chebyshev_distance_scipy\n",
        "2.449: euclidean_distance_sklearn\n",
        "2.449: euclidean_distance_scipy\n",
        "4.000: interval_distance\n",
        "4.243: mahalanobis_distance_scipy\n",
        "6.000: minkowski_distance_scipy\n",
        "6.000: sqeuclidean_distance_scipy\n",
        "6.000: canberra_distance_scipy\n",
        "6.000: cityblock_distance_scipy\n",
        "6.000: manhattan_distance_sklearn\n",
        "22.000: matching_coefficient_textsim\n"
       ]
      },
      {
       "output_type": "stream",
       "stream": "stderr",
       "text": [
        "/home/abelm/textsim/tokendists/distances.py:232: RuntimeWarning: invalid value encountered in true_divide\n",
        "  return np.sqrt(((XA - XB) ** 2 / V).sum())\n"
       ]
      }
     ],
     "prompt_number": 5
    },
    {
     "cell_type": "markdown",
     "metadata": {},
     "source": [
      "### **Calling a specific distance!**"
     ]
    },
    {
     "cell_type": "code",
     "collapsed": false,
     "input": [
      "jaccard_distance_textsim(s1,s2)"
     ],
     "language": "python",
     "metadata": {},
     "outputs": [
      {
       "metadata": {},
       "output_type": "pyout",
       "prompt_number": 6,
       "text": [
        "0.5454545454545454"
       ]
      }
     ],
     "prompt_number": 6
    },
    {
     "cell_type": "markdown",
     "metadata": {},
     "source": [
      "## Performance between Token-Based Similar Distances\n",
      "\n",
      "Some distances have the same value, but comes from different implementations. Which is better?\n",
      "The names of distances inside textim have been changed after run this performance test the first time.\n",
      "\n",
      "    E.g. jaccard_distance = jaccard_distance_nltk\n",
      "         \n",
      "jaccard_distance_textsim is a self implementation, inside textsim package, of jaccard_distance. The code is contained for students to take it as an example of implementation of this kind of distance."
     ]
    },
    {
     "cell_type": "code",
     "collapsed": true,
     "input": [
      "%timeit jaccard_distance_nltk(s1,s2)\n",
      "%timeit jaccard_distance_textsim(s1,s2)\n",
      "%timeit jaccard_distance_scipy(s1,s2)"
     ],
     "language": "python",
     "metadata": {},
     "outputs": [
      {
       "output_type": "stream",
       "stream": "stdout",
       "text": [
        "100000 loops, best of 3: 12.6 \u00b5s per loop\n",
        "100000 loops, best of 3: 11.1 \u00b5s per loop"
       ]
      },
      {
       "output_type": "stream",
       "stream": "stdout",
       "text": [
        "\n",
        "1000 loops, best of 3: 1.68 ms per loop"
       ]
      },
      {
       "output_type": "stream",
       "stream": "stdout",
       "text": [
        "\n"
       ]
      }
     ],
     "prompt_number": 7
    },
    {
     "cell_type": "code",
     "collapsed": false,
     "input": [
      "%timeit cosine_distance_scipy(s1,s2)\n",
      "%timeit cosine_distance_sklearn(s1,s2)"
     ],
     "language": "python",
     "metadata": {},
     "outputs": [
      {
       "output_type": "stream",
       "stream": "stdout",
       "text": [
        "1000 loops, best of 3: 1.69 ms per loop\n",
        "1000 loops, best of 3: 1.84 ms per loop"
       ]
      },
      {
       "output_type": "stream",
       "stream": "stdout",
       "text": [
        "\n"
       ]
      }
     ],
     "prompt_number": 8
    },
    {
     "cell_type": "code",
     "collapsed": false,
     "input": [
      "textsim.tokendists.__not_implemented__"
     ],
     "language": "python",
     "metadata": {},
     "outputs": [
      {
       "metadata": {},
       "output_type": "pyout",
       "prompt_number": 9,
       "text": [
        "['Kullback-Leibler distance',\n",
        " 'Hellinger distance',\n",
        " 'Jensen Shanon divergence',\n",
        " 'Harmonic Mean distance',\n",
        " 'Skew divergence',\n",
        " 'Tau distance',\n",
        " 'Containment distance',\n",
        " 'Q-gram Overlap',\n",
        " 'Skip-grams distance',\n",
        " 'Greedy String Tiling']"
       ]
      }
     ],
     "prompt_number": 9
    },
    {
     "cell_type": "markdown",
     "metadata": {},
     "source": [
      "# Qgram Distance Examples"
     ]
    },
    {
     "cell_type": "code",
     "collapsed": false,
     "input": [
      "print(qgram_distance(s1,s2))\n",
      "print(qgram_distance(s1,s2,n=2))\n",
      "print(qgram_distance(s1,s2,n=3))\n",
      "print(qgram_distance(s1,s2,n=2,method='overlap'))"
     ],
     "language": "python",
     "metadata": {},
     "outputs": [
      {
       "output_type": "stream",
       "stream": "stdout",
       "text": [
        "0.4375\n",
        "0.058823529411764705\n",
        "0.0\n",
        "0.05555555555555555\n"
       ]
      }
     ],
     "prompt_number": 10
    },
    {
     "cell_type": "markdown",
     "metadata": {},
     "source": [
      "# Syntactic Qgram Distance Examples"
     ]
    },
    {
     "cell_type": "code",
     "collapsed": false,
     "input": [
      "import time\n",
      "#Syntanctic preprocessing of texts\n",
      "from preprocess import deep, shallow\n",
      "init = time.time()\n",
      "#Name Entity Transformations\n",
      "s1A = deep.ner(s1,multioutput='raw_value')\n",
      "s1B = deep.ner(s1,multioutput='tuple_list')\n",
      "s1C = deep.ner(s1,multioutput='raw_tag')\n",
      "s2A = deep.ner(s2,multioutput='raw_value')\n",
      "s2B = deep.ner(s2,multioutput='tuple_list')\n",
      "s2C = deep.ner(s2,multioutput='raw_tag')\n",
      "\n",
      "#Part of Speech Transformations\n",
      "s1D = shallow.pos(s1,multioutput='raw_value')\n",
      "s1E = shallow.pos(s1,multioutput='tuple_list')\n",
      "s1F = shallow.pos(s1,multioutput='raw_tag')\n",
      "s2D = shallow.pos(s2,multioutput='raw_value')\n",
      "s2E = shallow.pos(s2,multioutput='tuple_list')\n",
      "s2F = shallow.pos(s2,multioutput='raw_tag')\n",
      "\n",
      "end = time.time()-init\n",
      "print(end)"
     ],
     "language": "python",
     "metadata": {},
     "outputs": [
      {
       "output_type": "stream",
       "stream": "stdout",
       "text": [
        "28.024226665496826\n"
       ]
      }
     ],
     "prompt_number": 11
    },
    {
     "cell_type": "code",
     "collapsed": false,
     "input": [
      "print(qgram_distance(s1A,s2A))\n",
      "print(qgram_distance(s1A,s2A,n=2))\n",
      "print(qgram_distance(s1A,s2A,n=3))\n",
      "print(qgram_distance(s1A,s2A,n=2,method='overlap'))"
     ],
     "language": "python",
     "metadata": {},
     "outputs": [
      {
       "output_type": "stream",
       "stream": "stdout",
       "text": [
        "0.375\n",
        "0.058823529411764705\n",
        "0.0\n",
        "0.05555555555555555\n"
       ]
      }
     ],
     "prompt_number": 12
    },
    {
     "cell_type": "code",
     "collapsed": false,
     "input": [
      "print(qgram_distance(s1B,s2B))\n",
      "print(qgram_distance(s1B,s2B,n=2))\n",
      "print(qgram_distance(s1B,s2B,n=3))\n",
      "print(qgram_distance(s1B,s2B,n=2,method='overlap'))"
     ],
     "language": "python",
     "metadata": {},
     "outputs": [
      {
       "output_type": "stream",
       "stream": "stdout",
       "text": [
        "0.375\n",
        "0.058823529411764705\n",
        "0.0\n",
        "0.05555555555555555\n"
       ]
      }
     ],
     "prompt_number": 16
    },
    {
     "cell_type": "code",
     "collapsed": false,
     "input": [
      "print(qgram_distance(s1C,s2C))\n",
      "print(qgram_distance(s1C,s2C,n=2))\n",
      "print(qgram_distance(s1C,s2C,n=3))\n",
      "print(qgram_distance(s1C,s2C,n=2,method='overlap'))"
     ],
     "language": "python",
     "metadata": {},
     "outputs": [
      {
       "output_type": "stream",
       "stream": "stdout",
       "text": [
        "0.38461538461538464\n",
        "0.1935483870967742\n",
        "0.06451612903225806\n",
        "0.17647058823529413\n"
       ]
      }
     ],
     "prompt_number": 13
    },
    {
     "cell_type": "code",
     "collapsed": false,
     "input": [
      "print(qgram_distance(s1D,s2D))\n",
      "print(qgram_distance(s1D,s2D,n=2))\n",
      "print(qgram_distance(s1D,s2D,n=3))\n",
      "print(qgram_distance(s1D,s2D,n=2,method='overlap'))"
     ],
     "language": "python",
     "metadata": {},
     "outputs": [
      {
       "output_type": "stream",
       "stream": "stdout",
       "text": [
        "0.4375\n",
        "0.058823529411764705\n",
        "0.0\n",
        "0.05555555555555555\n"
       ]
      }
     ],
     "prompt_number": 14
    },
    {
     "cell_type": "code",
     "collapsed": false,
     "input": [
      "print(qgram_distance(s1E,s2E))\n",
      "print(qgram_distance(s1E,s2E,n=2))\n",
      "print(qgram_distance(s1E,s2E,n=3))\n",
      "print(qgram_distance(s1E,s2E,n=2,method='overlap'))"
     ],
     "language": "python",
     "metadata": {},
     "outputs": [
      {
       "output_type": "stream",
       "stream": "stdout",
       "text": [
        "0.4375\n",
        "0.058823529411764705\n",
        "0.0\n",
        "0.05555555555555555\n"
       ]
      }
     ],
     "prompt_number": 20
    },
    {
     "cell_type": "code",
     "collapsed": false,
     "input": [
      "print(qgram_distance(s1F,s2F))\n",
      "print(qgram_distance(s1F,s2F,n=2))\n",
      "print(qgram_distance(s1F,s2F,n=3))\n",
      "print(qgram_distance(s1F,s2F,n=2,method='overlap'))"
     ],
     "language": "python",
     "metadata": {},
     "outputs": [
      {
       "output_type": "stream",
       "stream": "stdout",
       "text": [
        "0.7058823529411765\n",
        "0.4166666666666667\n",
        "0.23076923076923078\n",
        "0.3125\n"
       ]
      }
     ],
     "prompt_number": 15
    },
    {
     "cell_type": "code",
     "collapsed": false,
     "input": [
      "print('-',s2)\n",
      "print('A-',s2A)\n",
      "print('B-',s2B)\n",
      "print('C-',s2C)\n",
      "print('D-',s2D)\n",
      "print('E-',s2E)\n",
      "print('F-',s2F)"
     ],
     "language": "python",
     "metadata": {},
     "outputs": [
      {
       "output_type": "stream",
       "stream": "stdout",
       "text": [
        "- Current Chief Operating Officer Mike Butcher and Group Chief \n",
        "        Financial Officer Alex Arena will report to So.\n",
        "A- Current Chief Operating Officer Mike/PERSON Butcher/PERSON and Group Chief Financial Officer Alex/PERSON Arena/PERSON will report to So./LOCATION \n",
        "B- [('Current', 'O'), ('Chief', 'O'), ('Operating', 'O'), ('Officer', 'O'), ('Mike', 'PERSON'), ('Butcher', 'PERSON'), ('and', 'O'), ('Group', 'O'), ('Chief', 'O'), ('Financial', 'O'), ('Officer', 'O'), ('Alex', 'PERSON'), ('Arena', 'PERSON'), ('will', 'O'), ('report', 'O'), ('to', 'O'), ('So.', 'LOCATION')]\n",
        "C- Current Chief Operating Officer PERSON PERSON and Group Chief Financial Officer PERSON PERSON will report to LOCATION \n",
        "D- Current/JJ Chief/NNP Operating/NNP Officer/NNP Mike/NNP Butcher/NNP and/CC Group/NNP Chief/NNP Financial/NNP Officer/NNP Alex/NNP Arena/NNP will/MD report/VB to/TO So./NNP \n",
        "E- [('Current', 'JJ'), ('Chief', 'NNP'), ('Operating', 'NNP'), ('Officer', 'NNP'), ('Mike', 'NNP'), ('Butcher', 'NNP'), ('and', 'CC'), ('Group', 'NNP'), ('Chief', 'NNP'), ('Financial', 'NNP'), ('Officer', 'NNP'), ('Alex', 'NNP'), ('Arena', 'NNP'), ('will', 'MD'), ('report', 'VB'), ('to', 'TO'), ('So.', 'NNP')]\n",
        "F- JJ NNP NNP NNP NNP NNP CC NNP NNP NNP NNP NNP NNP MD VB TO NNP \n"
       ]
      }
     ],
     "prompt_number": 27
    }
   ],
   "metadata": {}
  }
 ]
}