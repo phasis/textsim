{
 "metadata": {
  "name": "",
  "signature": "sha256:34cb8c697b16e541abeb91f2475f076de6b4d764652c116da3ca77848400fed6"
 },
 "nbformat": 3,
 "nbformat_minor": 0,
 "worksheets": [
  {
   "cells": [
    {
     "cell_type": "markdown",
     "metadata": {},
     "source": [
      "# Tokens Distance Examples"
     ]
    },
    {
     "cell_type": "code",
     "collapsed": false,
     "input": [
      "cd ../../"
     ],
     "language": "python",
     "metadata": {},
     "outputs": [
      {
       "output_type": "stream",
       "stream": "stdout",
       "text": [
        "/home/abelm\n"
       ]
      }
     ],
     "prompt_number": 1
    },
    {
     "cell_type": "code",
     "collapsed": false,
     "input": [
      "import textsim\n",
      "from textsim import *"
     ],
     "language": "python",
     "metadata": {},
     "outputs": [],
     "prompt_number": 2
    },
    {
     "cell_type": "code",
     "collapsed": false,
     "input": [
      "s1 = \"\"\"PCCW's chief operating officer, Mike Butcher, and Alex Arena, \n",
      "        the chief financial officer, will report directly to Mr So.\"\"\"\n",
      "s2 = \"\"\"Current Chief Operating Officer Mike Butcher and Group Chief \n",
      "        Financial Officer Alex Arena will report to So.\"\"\""
     ],
     "language": "python",
     "metadata": {},
     "outputs": [],
     "prompt_number": 3
    },
    {
     "cell_type": "markdown",
     "metadata": {},
     "source": [
      "### **Listing all available distances!**"
     ]
    },
    {
     "cell_type": "code",
     "collapsed": false,
     "input": [
      "print('total',len(textsim.tokendists.__all__))\n",
      "textsim.tokendists.__all__"
     ],
     "language": "python",
     "metadata": {},
     "outputs": [
      {
       "output_type": "stream",
       "stream": "stdout",
       "text": [
        "total 32\n"
       ]
      },
      {
       "metadata": {},
       "output_type": "pyout",
       "prompt_number": 4,
       "text": [
        "['jaccard_distance_nltk',\n",
        " 'chebyshev_distance_scipy',\n",
        " 'dice_distance_scipy',\n",
        " 'rogerstanimoto_distance_scipy',\n",
        " 'yule_distance_scipy',\n",
        " 'dice_coefficient_textsim',\n",
        " 'cosine_distance_sklearn',\n",
        " 'seuclidean_distance_scipy',\n",
        " 'cosine_similarity_sklearn',\n",
        " 'sqeuclidean_distance_scipy',\n",
        " 'matching_distance_scipy',\n",
        " 'jaccard_distance_scipy',\n",
        " 'matching_coefficient_textsim',\n",
        " 'kulsinski_distance_scipy',\n",
        " 'interval_distance',\n",
        " 'matching_coefficient_pablo',\n",
        " 'manhattan_distance_sklearn',\n",
        " 'hamming_distance_scipy',\n",
        " 'masi_distance',\n",
        " 'sokalmichener_distance_scipy',\n",
        " 'russellrao_distance_scipy',\n",
        " 'mahalanobis_distance_scipy',\n",
        " 'canberra_distance_scipy',\n",
        " 'minkowski_distance_scipy',\n",
        " 'euclidean_distance_textsim',\n",
        " 'braycurtis_distance_scipy',\n",
        " 'containment_similarity_textsim',\n",
        " 'jaccard_distance_textsim',\n",
        " 'euclidean_distance_sklearn',\n",
        " 'sokalsneath_distance_scipy',\n",
        " 'correlation_distance_scipy',\n",
        " 'overlap_distance_textsim']"
       ]
      }
     ],
     "prompt_number": 4
    },
    {
     "cell_type": "markdown",
     "metadata": {},
     "source": [
      "### **Calling all distances in a flash!**"
     ]
    },
    {
     "cell_type": "code",
     "collapsed": false,
     "input": [
      "dictdist = {}\n",
      "for metric in textsim.tokendists.PAIRED_DISTANCES:\n",
      "    func = textsim.tokendists.PAIRED_DISTANCES[metric]\n",
      "    dictdist[metric] = float(func(s1,s2))\n",
      "    \n",
      "dictcp = dictdist.copy()\n",
      "for value in sorted(dictdist.values()):\n",
      "    for word in dictdist.keys():\n",
      "        if dictdist[word] == value and word in dictcp:\n",
      "            print('%.3f: %s' % (value,word))\n",
      "            dictcp.pop(word)"
     ],
     "language": "python",
     "metadata": {},
     "outputs": [
      {
       "output_type": "stream",
       "stream": "stdout",
       "text": [
        "-0.267: sokalsneath_distance_scipy\n",
        "-0.235: rogerstanimoto_distance_scipy\n",
        "-0.235: sokalmichener_distance_scipy\n",
        "-0.118: kulsinski_distance_scipy\n",
        "-0.105: matching_distance_scipy\n",
        "-0.056: dice_distance_scipy\n",
        "-0.000: yule_distance_scipy\n",
        "-0.000: russellrao_distance_scipy\n",
        "0.135: cosine_distance_sklearn\n",
        "0.167: braycurtis_distance_scipy\n",
        "0.316: jaccard_distance_scipy\n",
        "0.316: hamming_distance_scipy\n",
        "0.412: matching_coefficient_pablo\n",
        "0.455: dice_coefficient_textsim\n",
        "0.545: jaccard_distance_nltk\n",
        "0.545: jaccard_distance_textsim\n",
        "0.584: correlation_distance_scipy\n",
        "0.588: containment_similarity_textsim\n",
        "0.667: overlap_distance_textsim\n",
        "0.850: masi_distance\n",
        "0.865: cosine_similarity_sklearn\n",
        "0.970: euclidean_distance_textsim\n",
        "1.000: chebyshev_distance_scipy\n",
        "2.449: euclidean_distance_sklearn\n",
        "4.000: interval_distance\n",
        "4.243: mahalanobis_distance_scipy\n",
        "6.000: minkowski_distance_scipy\n",
        "6.000: manhattan_distance_sklearn\n",
        "6.000: canberra_distance_scipy\n",
        "6.000: sqeuclidean_distance_scipy\n",
        "8.485: seuclidean_distance_scipy\n",
        "22.000: matching_coefficient_textsim\n"
       ]
      },
      {
       "output_type": "stream",
       "stream": "stderr",
       "text": [
        "/home/abelm/textsim/tokendists/tokendists.py:236: RuntimeWarning: invalid value encountered in true_divide\n",
        "  return np.nansum(np.sqrt((XA - XB) ** 2 / V))\n"
       ]
      }
     ],
     "prompt_number": 5
    },
    {
     "cell_type": "markdown",
     "metadata": {},
     "source": [
      "### **Calling a specific distance!**"
     ]
    },
    {
     "cell_type": "code",
     "collapsed": false,
     "input": [
      "jaccard_distance_textsim(s1,s2)"
     ],
     "language": "python",
     "metadata": {},
     "outputs": [
      {
       "metadata": {},
       "output_type": "pyout",
       "prompt_number": 6,
       "text": [
        "0.5454545454545454"
       ]
      }
     ],
     "prompt_number": 6
    },
    {
     "cell_type": "markdown",
     "metadata": {},
     "source": [
      "## Performance between Token-Based Similar Distances\n",
      "\n",
      "Some distances have the same value, but comes from different implementations. Which is better?\n",
      "The names of distances inside textim have been changed after run this performance test the first time.\n",
      "\n",
      "    E.g. jaccard_distance = jaccard_distance_nltk\n",
      "         \n",
      "jaccard_distance_textsim is a self implementation, inside textsim package, of jaccard_distance. The code is contained for students to take it as an example of implementation of this kind of distance."
     ]
    },
    {
     "cell_type": "code",
     "collapsed": true,
     "input": [
      "%timeit jaccard_distance_nltk(s1,s2)\n",
      "%timeit jaccard_distance_textsim(s1,s2)\n",
      "%timeit jaccard_distance_scipy(s1,s2)"
     ],
     "language": "python",
     "metadata": {},
     "outputs": [
      {
       "output_type": "stream",
       "stream": "stdout",
       "text": [
        "100000 loops, best of 3: 12.6 \u00b5s per loop\n",
        "100000 loops, best of 3: 11.5 \u00b5s per loop"
       ]
      },
      {
       "output_type": "stream",
       "stream": "stdout",
       "text": [
        "\n",
        "100 loops, best of 3: 1.68 ms per loop"
       ]
      },
      {
       "output_type": "stream",
       "stream": "stdout",
       "text": [
        "\n"
       ]
      }
     ],
     "prompt_number": 7
    },
    {
     "cell_type": "code",
     "collapsed": false,
     "input": [
      "textsim.tokendists.__not_implemented__"
     ],
     "language": "python",
     "metadata": {},
     "outputs": [
      {
       "metadata": {},
       "output_type": "pyout",
       "prompt_number": 8,
       "text": [
        "['Kullback-Leibler distance',\n",
        " 'Hellinger distance',\n",
        " 'Jensen Shanon divergence',\n",
        " 'Harmonic Mean distance',\n",
        " 'Skew divergence',\n",
        " 'Tau distance',\n",
        " 'Q-gram distance',\n",
        " 'Containment distance',\n",
        " 'Q-gram Overlap',\n",
        " 'Skip-grams distance',\n",
        " 'Greedy String Tiling']"
       ]
      }
     ],
     "prompt_number": 8
    }
   ],
   "metadata": {}
  }
 ]
}